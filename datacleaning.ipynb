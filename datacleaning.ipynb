{
 "cells": [
  {
   "cell_type": "code",
   "execution_count": 19,
   "metadata": {},
   "outputs": [],
   "source": [
    "import os\n",
    "import zipfile\n",
    "import cv2\n",
    "import numpy as np\n",
    "from matplotlib import pyplot as plt"
   ]
  },
  {
   "cell_type": "code",
   "execution_count": 2,
   "metadata": {},
   "outputs": [],
   "source": [
    "with zipfile.ZipFile('./img_align_celeba.zip', 'r') as zip_ref:\n",
    "    zip_ref.extractall('./')"
   ]
  },
  {
   "cell_type": "code",
   "execution_count": 60,
   "metadata": {},
   "outputs": [],
   "source": [
    "# Crop to 128x128 and create 32x32, 64x64 versions\n",
    "# We know shape is 218x178x3\n",
    "def createresizedimages(srcpath):\n",
    "    if os.path.isfile(srcpath):\n",
    "        filename = srcpath.split('/')[-1]\n",
    "        img = cv2.imread(srcpath)\n",
    "        img = img[20:-20,:,:]\n",
    "\n",
    "        img = cv2.resize(img, (128, 128), interpolation=cv2.INTER_LINEAR)\n",
    "        cv2.imwrite('./img_align_celeba_128/'+filename, img)\n",
    "        \n",
    "        img = cv2.resize(img, (64, 64), interpolation=cv2.INTER_LINEAR)\n",
    "        img = cv2.resize(img, (128, 128), interpolation=cv2.INTER_LINEAR)\n",
    "        cv2.imwrite('./img_align_celeba_64/'+filename, img)\n",
    "        \n",
    "        img = cv2.resize(img, (32, 32), interpolation=cv2.INTER_LINEAR)\n",
    "        img = cv2.resize(img, (128, 128), interpolation=cv2.INTER_LINEAR)\n",
    "        cv2.imwrite('./img_align_celeba_32/'+filename, img)\n",
    "        "
   ]
  },
  {
   "cell_type": "code",
   "execution_count": 61,
   "metadata": {},
   "outputs": [],
   "source": [
    "if not os.path.exists('./img_align_celeba_32'):\n",
    "    os.mkdir('./img_align_celeba_32')\n",
    "if not os.path.exists('./img_align_celeba_64'):\n",
    "    os.mkdir('./img_align_celeba_64')\n",
    "if not os.path.exists('./img_align_celeba_128'):\n",
    "    os.mkdir('./img_align_celeba_128')\n",
    "        "
   ]
  },
  {
   "cell_type": "code",
   "execution_count": 62,
   "metadata": {
    "scrolled": true
   },
   "outputs": [],
   "source": [
    "srcimgdir = './img_align_celeba/'\n",
    "for file in os.listdir(srcimgdir):\n",
    "    createresizedimages(srcimgdir + file)"
   ]
  },
  {
   "cell_type": "code",
   "execution_count": null,
   "metadata": {},
   "outputs": [],
   "source": []
  }
 ],
 "metadata": {
  "kernelspec": {
   "display_name": "Python 3",
   "language": "python",
   "name": "python3"
  },
  "language_info": {
   "codemirror_mode": {
    "name": "ipython",
    "version": 3
   },
   "file_extension": ".py",
   "mimetype": "text/x-python",
   "name": "python",
   "nbconvert_exporter": "python",
   "pygments_lexer": "ipython3",
   "version": "3.7.7"
  }
 },
 "nbformat": 4,
 "nbformat_minor": 4
}
